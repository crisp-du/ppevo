{
 "cells": [
  {
   "cell_type": "code",
   "execution_count": 13,
   "id": "5bcc4a37",
   "metadata": {},
   "outputs": [],
   "source": [
    "from transformers import BertTokenizer\n",
    "from pathlib import Path\n",
    "import torch\n",
    "from fast_bert.prediction import BertClassificationPredictor\n",
    "import pandas as pd"
   ]
  },
  {
   "cell_type": "code",
   "execution_count": 9,
   "id": "6ad4f08d",
   "metadata": {},
   "outputs": [],
   "source": [
    "MODEL_PATH = Path('./model/output/model_out/')\n",
    "LABEL_PATH = Path('./model/labels/')\n",
    "sentencePredictor = BertClassificationPredictor(MODEL_PATH, LABEL_PATH, multi_label=True, model_type='xlnet')"
   ]
  },
  {
   "cell_type": "code",
   "execution_count": 19,
   "id": "ba0f97ca",
   "metadata": {},
   "outputs": [],
   "source": [
    "sentenceList = ['We use the third-party service provider DR globalTech Inc. as our online official re-seller and for certain in-game sales functions.',\n",
    "           'You may choose to voluntarily provide us with various personal information and non-personal information through your use of the Online Services.']\n",
    "sentenceLabels = sentencePredictor.predict_batch(sentenceList)\n",
    "outputDataFrame = pd.DataFrame([{item[0]: float(item[1]) for item in prediction} for prediction in sentenceLabels])"
   ]
  },
  {
   "cell_type": "code",
   "execution_count": 30,
   "id": "021f7b01",
   "metadata": {},
   "outputs": [
    {
     "data": {
      "text/html": [
       "<div>\n",
       "<style scoped>\n",
       "    .dataframe tbody tr th:only-of-type {\n",
       "        vertical-align: middle;\n",
       "    }\n",
       "\n",
       "    .dataframe tbody tr th {\n",
       "        vertical-align: top;\n",
       "    }\n",
       "\n",
       "    .dataframe thead th {\n",
       "        text-align: right;\n",
       "    }\n",
       "</style>\n",
       "<table border=\"1\" class=\"dataframe\">\n",
       "  <thead>\n",
       "    <tr style=\"text-align: right;\">\n",
       "      <th></th>\n",
       "      <th>Text</th>\n",
       "      <th>Category</th>\n",
       "      <th>Third Party Sharing/Collection</th>\n",
       "      <th>First Party Collection/Use</th>\n",
       "      <th>Introductory/Generic</th>\n",
       "      <th>User Choice/Control</th>\n",
       "      <th>Practice not covered</th>\n",
       "      <th>International and Specific Audiences</th>\n",
       "      <th>Data Security</th>\n",
       "      <th>Data Retention</th>\n",
       "      <th>Policy Change</th>\n",
       "      <th>Privacy contact information</th>\n",
       "      <th>User Access Edit and Deletion</th>\n",
       "      <th>Do Not Track</th>\n",
       "    </tr>\n",
       "  </thead>\n",
       "  <tbody>\n",
       "    <tr>\n",
       "      <th>0</th>\n",
       "      <td>We use the third-party service provider DR glo...</td>\n",
       "      <td>Third Party Sharing/Collection</td>\n",
       "      <td>0.999997</td>\n",
       "      <td>0.000002</td>\n",
       "      <td>7.718342e-07</td>\n",
       "      <td>4.181219e-07</td>\n",
       "      <td>3.261219e-07</td>\n",
       "      <td>1.767744e-07</td>\n",
       "      <td>9.101946e-08</td>\n",
       "      <td>5.098469e-08</td>\n",
       "      <td>5.096175e-08</td>\n",
       "      <td>4.648695e-08</td>\n",
       "      <td>4.457188e-08</td>\n",
       "      <td>1.760778e-08</td>\n",
       "    </tr>\n",
       "    <tr>\n",
       "      <th>1</th>\n",
       "      <td>You may choose to voluntarily provide us with ...</td>\n",
       "      <td>User Choice/Control</td>\n",
       "      <td>0.000001</td>\n",
       "      <td>0.000001</td>\n",
       "      <td>4.917470e-07</td>\n",
       "      <td>9.999967e-01</td>\n",
       "      <td>1.325332e-07</td>\n",
       "      <td>2.556521e-07</td>\n",
       "      <td>1.193386e-07</td>\n",
       "      <td>6.854710e-08</td>\n",
       "      <td>6.456511e-08</td>\n",
       "      <td>3.926079e-07</td>\n",
       "      <td>1.166076e-07</td>\n",
       "      <td>4.695972e-08</td>\n",
       "    </tr>\n",
       "  </tbody>\n",
       "</table>\n",
       "</div>"
      ],
      "text/plain": [
       "                                                Text  \\\n",
       "0  We use the third-party service provider DR glo...   \n",
       "1  You may choose to voluntarily provide us with ...   \n",
       "\n",
       "                         Category  Third Party Sharing/Collection  \\\n",
       "0  Third Party Sharing/Collection                        0.999997   \n",
       "1             User Choice/Control                        0.000001   \n",
       "\n",
       "   First Party Collection/Use  Introductory/Generic  User Choice/Control  \\\n",
       "0                    0.000002          7.718342e-07         4.181219e-07   \n",
       "1                    0.000001          4.917470e-07         9.999967e-01   \n",
       "\n",
       "   Practice not covered  International and Specific Audiences  Data Security  \\\n",
       "0          3.261219e-07                          1.767744e-07   9.101946e-08   \n",
       "1          1.325332e-07                          2.556521e-07   1.193386e-07   \n",
       "\n",
       "   Data Retention  Policy Change  Privacy contact information  \\\n",
       "0    5.098469e-08   5.096175e-08                 4.648695e-08   \n",
       "1    6.854710e-08   6.456511e-08                 3.926079e-07   \n",
       "\n",
       "   User Access Edit and Deletion  Do Not Track  \n",
       "0                   4.457188e-08  1.760778e-08  \n",
       "1                   1.166076e-07  4.695972e-08  "
      ]
     },
     "execution_count": 30,
     "metadata": {},
     "output_type": "execute_result"
    }
   ],
   "source": [
    "outputDataFrame.insert(0,'Category',list(outputDataFrame.idxmax(axis=1)))\n",
    "outputDataFrame.insert(0,'Text',sentenceList)\n",
    "outputDataFrame"
   ]
  }
 ],
 "metadata": {
  "kernelspec": {
   "display_name": "Python [conda env:tf2]",
   "language": "python",
   "name": "conda-env-tf2-py"
  },
  "language_info": {
   "codemirror_mode": {
    "name": "ipython",
    "version": 3
   },
   "file_extension": ".py",
   "mimetype": "text/x-python",
   "name": "python",
   "nbconvert_exporter": "python",
   "pygments_lexer": "ipython3",
   "version": "3.9.12"
  }
 },
 "nbformat": 4,
 "nbformat_minor": 5
}
